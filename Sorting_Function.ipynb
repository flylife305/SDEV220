{
 "cells": [
  {
   "cell_type": "code",
   "execution_count": null,
   "metadata": {},
   "outputs": [
    {
     "name": "stdout",
     "output_type": "stream",
     "text": [
      "0000111122222"
     ]
    }
   ],
   "source": [
    "def sort_array(arr): #defines a sorting array\n",
    "\n",
    "    number_of_zeros = 0\n",
    "    number_of_ones = 0\n",
    "    number_of_twos = 0\n",
    "\n",
    "    for num in arr:\n",
    "\n",
    "        if num == 0:\n",
    "            number_of_zeros += 1\n",
    "\n",
    "        elif num == 1:\n",
    "            number_of_ones += 1\n",
    "\n",
    "        elif num == 2:\n",
    "            number_of_twos += 1\n",
    "\n",
    "    idx = 0\n",
    "\n",
    "    for i in range(number_of_zeros):\n",
    "        arr[idx] = 0\n",
    "        idx += 1\n",
    "\n",
    "    for i in range(number_of_ones):\n",
    "        arr[idx] = 1\n",
    "        idx += 1\n",
    "        \n",
    "    for i in range(number_of_twos):\n",
    "        arr[idx] = 2\n",
    "        idx += 1\n",
    "\n",
    "    return arr\n",
    "\n",
    "arr = [0, 1, 2, 0, 1, 2, 0, 1, 0, 1, 2, 2, 2]\n",
    "\n",
    "sort_array(arr) #calls the sorting array function\n",
    "\n",
    "for num in arr:\n",
    "    print(num, end = \"\") #prints the sorted array"
   ]
  }
 ],
 "metadata": {
  "kernelspec": {
   "display_name": "Python 3",
   "language": "python",
   "name": "python3"
  },
  "language_info": {
   "codemirror_mode": {
    "name": "ipython",
    "version": 3
   },
   "file_extension": ".py",
   "mimetype": "text/x-python",
   "name": "python",
   "nbconvert_exporter": "python",
   "pygments_lexer": "ipython3",
   "version": "3.13.2"
  }
 },
 "nbformat": 4,
 "nbformat_minor": 2
}
