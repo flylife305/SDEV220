{
 "cells": [
  {
   "cell_type": "code",
   "execution_count": null,
   "metadata": {},
   "outputs": [],
   "source": []
  },
  {
   "cell_type": "code",
   "execution_count": 9,
   "metadata": {},
   "outputs": [
    {
     "name": "stdout",
     "output_type": "stream",
     "text": [
      "Success! 70 is located at index 7.\n"
     ]
    }
   ],
   "source": [
    "def binary_search(arr, k):\n",
    "    low, high = 0, len(arr) - 1\n",
    "    \n",
    "    while low <= high:\n",
    "        mid = (low + high) // 2\n",
    "        \n",
    "        # Check if k is at mid\n",
    "        if arr[mid] == k:\n",
    "            return mid\n",
    "        \n",
    "        # If k is greater, ignore the left half\n",
    "        elif arr[mid] < k:\n",
    "            low = mid + 1\n",
    "\n",
    "        # If k is smaller, ignore the right half\n",
    "        else:\n",
    "            high = mid - 1\n",
    "    \n",
    "    # k is not present in the array\n",
    "    return -1\n",
    "\n",
    "\n",
    "arr = [2, 3, 4, 10, 40, 50, 60, 70, 80, 90]\n",
    "k = 70\n",
    "\n",
    "index = binary_search(arr, k)\n",
    "if index != -1:\n",
    "    print(f\"Success! {k} is located at index {index}.\")\n",
    "else:\n",
    "    print(f\"Sorry! {k} is not present in the array.\")"
   ]
  }
 ],
 "metadata": {
  "kernelspec": {
   "display_name": "Python 3",
   "language": "python",
   "name": "python3"
  },
  "language_info": {
   "codemirror_mode": {
    "name": "ipython",
    "version": 3
   },
   "file_extension": ".py",
   "mimetype": "text/x-python",
   "name": "python",
   "nbconvert_exporter": "python",
   "pygments_lexer": "ipython3",
   "version": "3.13.2"
  }
 },
 "nbformat": 4,
 "nbformat_minor": 2
}
