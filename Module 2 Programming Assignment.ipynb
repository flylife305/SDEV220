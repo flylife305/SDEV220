{
 "cells": [
  {
   "cell_type": "code",
   "execution_count": 1,
   "metadata": {},
   "outputs": [
    {
     "name": "stdout",
     "output_type": "stream",
     "text": [
      "Too low.\n"
     ]
    }
   ],
   "source": [
    "secret = 7\n",
    "\n",
    "guess = 4\n",
    "\n",
    "if guess < secret:\n",
    "    print(\"Too low.\")\n",
    "\n",
    "elif guess > secret:\n",
    "    print (\"Too high.\")\n",
    "    \n",
    "elif guess == secret:\n",
    "    print(\"Just right.\")"
   ]
  },
  {
   "cell_type": "code",
   "execution_count": 2,
   "metadata": {},
   "outputs": [
    {
     "name": "stdout",
     "output_type": "stream",
     "text": [
      "Pea\n"
     ]
    }
   ],
   "source": [
    "small = True\n",
    "\n",
    "green = True\n",
    "\n",
    "\n",
    "if small:\n",
    "\n",
    "    if green:\n",
    "        print(\"Pea\")\n",
    "\n",
    "    elif not green:\n",
    "        print(\"Cherry\")\n",
    "\n",
    "elif not small:\n",
    "\n",
    "    if green:\n",
    "        print (\"Watermelon\")\n",
    "        \n",
    "    elif not green:\n",
    "        print (\"Pumpkin\")\n"
   ]
  },
  {
   "cell_type": "code",
   "execution_count": 3,
   "metadata": {},
   "outputs": [
    {
     "name": "stdout",
     "output_type": "stream",
     "text": [
      "3\n",
      "2\n",
      "1\n",
      "0\n"
     ]
    }
   ],
   "source": [
    "numbers = [3,2,1,0]\n",
    "\n",
    "for i in numbers:\n",
    "    print(i)"
   ]
  },
  {
   "cell_type": "code",
   "execution_count": 4,
   "metadata": {},
   "outputs": [
    {
     "name": "stdout",
     "output_type": "stream",
     "text": [
      "Too low.\n",
      "Too low.\n",
      "Too low.\n",
      "Too low.\n",
      "Too low.\n",
      "Too low.\n",
      "Found it!\n"
     ]
    }
   ],
   "source": [
    "guess_me = 7\n",
    "\n",
    "number = 1\n",
    "\n",
    "while True:\n",
    "\n",
    "    if number < guess_me:\n",
    "        print(\"Too low.\")\n",
    "\n",
    "    elif number > guess_me:\n",
    "        print(\"Oops!\")\n",
    "        break\n",
    "\n",
    "    elif number == guess_me:\n",
    "        print(\"Found it!\")\n",
    "        break\n",
    "\n",
    "    number += 1"
   ]
  },
  {
   "cell_type": "code",
   "execution_count": 5,
   "metadata": {},
   "outputs": [
    {
     "name": "stdout",
     "output_type": "stream",
     "text": [
      "Too low.\n",
      "Too low.\n",
      "Too low.\n",
      "Too low.\n",
      "Too low.\n",
      "Found it!\n"
     ]
    }
   ],
   "source": [
    "guess_me = 5\n",
    "\n",
    "for number in range (0,10):\n",
    "    \n",
    "    if number < guess_me:\n",
    "        print(\"Too low.\")\n",
    "\n",
    "    elif number > guess_me:\n",
    "        print(\"Oops!\")\n",
    "        break\n",
    "\n",
    "    elif number == guess_me:\n",
    "        print(\"Found it!\")\n",
    "        break"
   ]
  }
 ],
 "metadata": {
  "kernelspec": {
   "display_name": "Python 3",
   "language": "python",
   "name": "python3"
  },
  "language_info": {
   "codemirror_mode": {
    "name": "ipython",
    "version": 3
   },
   "file_extension": ".py",
   "mimetype": "text/x-python",
   "name": "python",
   "nbconvert_exporter": "python",
   "pygments_lexer": "ipython3",
   "version": "3.13.2"
  }
 },
 "nbformat": 4,
 "nbformat_minor": 2
}
